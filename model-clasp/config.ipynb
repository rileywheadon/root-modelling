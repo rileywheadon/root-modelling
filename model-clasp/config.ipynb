{
 "cells": [
  {
   "cell_type": "markdown",
   "id": "20731afc-2022-45c2-8d6a-2698eda3e767",
   "metadata": {},
   "source": [
    "### Model Parameters"
   ]
  },
  {
   "cell_type": "code",
   "execution_count": 5,
   "id": "86751895-82cc-4a87-80fd-19bc8c54566a",
   "metadata": {},
   "outputs": [],
   "source": [
    "# [1, 1.1, 1.1, 2.5, 1, 1, 1, 0.3, 0, 1, 1, 1, 1, 1, 0.1, 2.3, 1]\n",
    "\n",
    "# CLASP parameters\n",
    "c_max = 1\n",
    "p = 1\n",
    "q = 4\n",
    "u = 6.5\n",
    "v = 0.5\n",
    "k_on = 1.5\n",
    "k_off = 3\n",
    "k_in = 1\n",
    "t_2 = 0\n",
    "\n",
    "# Microtubule parameters\n",
    "a_tau = 1\n",
    "b_tau = 1\n",
    "o_max = 1\n",
    "a_O = 1\n",
    "b_O = 1\n",
    "\n",
    "# Growth parameters\n",
    "g_min = 2.5\n",
    "g_B = 2.5\n",
    "g_tau = 4\n",
    "\n",
    "# Division paramters\n",
    "d_tau = 1\n",
    "d_O = 1\n",
    "t_max = 1\n",
    "\n",
    "# Maximum size for cell division\n",
    "max_division_size = 50\n",
    "\n",
    "# Mutation \n",
    "mutation = \"Wild\""
   ]
  },
  {
   "cell_type": "markdown",
   "id": "a4048986-1d19-4530-824f-b00b6231d5c0",
   "metadata": {},
   "source": [
    "### Visualization Parameters"
   ]
  },
  {
   "cell_type": "code",
   "execution_count": 6,
   "id": "0ab5ec40-ab48-47b9-86b0-b89f63e15919",
   "metadata": {},
   "outputs": [],
   "source": [
    "# Maximum plot height\n",
    "plot_height = 100"
   ]
  },
  {
   "cell_type": "markdown",
   "id": "95fbd807-e062-4564-bae3-fa2a0c2139fa",
   "metadata": {},
   "source": [
    "### Export Parameters to JSON"
   ]
  },
  {
   "cell_type": "code",
   "execution_count": 7,
   "id": "8fa0d8b3-2db9-4b65-a130-52c656e3823f",
   "metadata": {},
   "outputs": [],
   "source": [
    "# Update parameters based on the mutation\n",
    "if mutation == \"CLASP\":\n",
    "    c_max, p = 0, 0\n",
    "if mutation == \"BRIN\":\n",
    "    q = 0\n",
    "if mutation != \"TOR\":\n",
    "    t_2 = 0"
   ]
  },
  {
   "cell_type": "code",
   "execution_count": 8,
   "id": "12996b0f-92d2-4f25-850e-272a7724d8dc",
   "metadata": {},
   "outputs": [],
   "source": [
    "# Store the parameters in a dictionary and export\n",
    "PARAMS = {\n",
    "    \"clasp\": (c_max, p, q, u, v, k_on, k_off, k_in, t_2),\n",
    "    \"growth\": (g_min, g_B, g_tau),\n",
    "    \"microtubules\": (a_tau, b_tau, o_max, a_O, b_O),\n",
    "    \"division\": (d_tau, d_O, t_max),\n",
    "    \"max_division_size\": max_division_size,\n",
    "    \"plot_height\": plot_height\n",
    "}\n",
    "\n",
    "import json\n",
    "with open('config.json', 'w+', encoding='utf-8') as f:\n",
    "    json.dump(PARAMS, f, ensure_ascii=False, indent=4)"
   ]
  }
 ],
 "metadata": {
  "kernelspec": {
   "display_name": "Python 3 (ipykernel)",
   "language": "python",
   "name": "python3"
  },
  "language_info": {
   "codemirror_mode": {
    "name": "ipython",
    "version": 3
   },
   "file_extension": ".py",
   "mimetype": "text/x-python",
   "name": "python",
   "nbconvert_exporter": "python",
   "pygments_lexer": "ipython3",
   "version": "3.12.3"
  }
 },
 "nbformat": 4,
 "nbformat_minor": 5
}

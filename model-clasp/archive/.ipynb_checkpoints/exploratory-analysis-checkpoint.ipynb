{
 "cells": [
  {
   "cell_type": "code",
   "execution_count": 194,
   "id": "70c42bfe-e3ba-4e18-85fe-60358cd62238",
   "metadata": {},
   "outputs": [],
   "source": [
    "import matplotlib as mpl\n",
    "import matplotlib.pyplot as plt\n",
    "import itertools\n",
    "import json\n",
    "import numpy as np\n",
    "import pandas as pd\n",
    "import scipy as sp\n",
    "\n",
    "from numpy.polynomial import Polynomial\n",
    "from matplotlib.gridspec import GridSpec\n",
    "from prototypefive import parse_mutant_data"
   ]
  },
  {
   "cell_type": "code",
   "execution_count": 195,
   "id": "ddef3223-6659-49a6-9dfe-35cc09c79bf7",
   "metadata": {},
   "outputs": [],
   "source": [
    "plt.rcParams['figure.figsize'] = [12, 10]\n",
    "plt.rcParams['font.size'] = 18"
   ]
  },
  {
   "cell_type": "code",
   "execution_count": null,
   "id": "da1fe897-86fb-4e19-9cc6-fbb285be18e5",
   "metadata": {},
   "outputs": [
    {
     "data": {
      "text/plain": [
       "<matplotlib.collections.PathCollection at 0x154ed4e90>"
      ]
     },
     "execution_count": 200,
     "metadata": {},
     "output_type": "execute_result"
    }
   ],
   "source": [
    "raw = pd.read_csv(\"data/trichoblast-areas.csv\")\n",
    "data_wt = parse_mutant_data(raw, \"WT-\", 10, 15)\n",
    "data_bc = parse_mutant_data(raw, \"BC-\", 10, 15)\n",
    "data_c1 = parse_mutant_data(raw, \"C1-\", 10, 15)\n",
    "\n",
    "plt.scatter(data_wt[:, 0], data_wt[:, 1], alpha = 0.3)\n",
    "plt.scatter(data_bc[:, 0], data_bc[:, 1], alpha = 0.3)\n",
    "plt.scatter(data_c1[:, 0], data_c1[:, 1], alpha = 0.3)"
   ]
  }
 ],
 "metadata": {
  "kernelspec": {
   "display_name": "Python 3 (ipykernel)",
   "language": "python",
   "name": "python3"
  },
  "language_info": {
   "codemirror_mode": {
    "name": "ipython",
    "version": 3
   },
   "file_extension": ".py",
   "mimetype": "text/x-python",
   "name": "python",
   "nbconvert_exporter": "python",
   "pygments_lexer": "ipython3",
   "version": "3.12.3"
  }
 },
 "nbformat": 4,
 "nbformat_minor": 5
}

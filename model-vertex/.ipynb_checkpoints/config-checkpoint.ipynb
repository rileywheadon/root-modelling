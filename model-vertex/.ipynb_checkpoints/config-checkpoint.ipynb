{
 "cells": [
  {
   "cell_type": "code",
   "execution_count": 1,
   "id": "a0a40bac-5b69-4695-9cbc-32620e81beea",
   "metadata": {},
   "outputs": [],
   "source": [
    "COLUMNS = {\n",
    "\n",
    "    # Sets the column types, from left to right. Should be symmetric.\n",
    "    \"types\": [\"EPI\", \"COR\", \"END\", \"PER\", \"VAS\", \"VAS\", \"VAS\", \n",
    "              \"VAS\", \"VAS\", \"VAS\", \"PER\", \"END\", \"COR\", \"EPI\"],\n",
    "\n",
    "    # Sets the width of each type of column:\n",
    "    \"widths\": {\n",
    "        \"OUT\": 6,  # Outer root cap\n",
    "        \"EPI\": 18, # Epidermis\n",
    "        \"COR\": 20, # Cortex\n",
    "        \"END\": 12, # Endodermis\n",
    "        \"PER\": 8,  # Pericycle\n",
    "        \"VAS\": 6,  # Vascular\n",
    "    },\n",
    "    \n",
    "    \"max_height\": 144, # Maximum cell height\n",
    "    \"mz_height\": 12,   # Initial cell height in the meristematic zone\n",
    "    \"min_height\": 8,   # Minimum cell height\n",
    "    \"ez_rows\": 5,     # Initial number of rows in the elongation zone\n",
    "    \"mz_rows\": 15     # Initial number of rows in the meristematic zone\n",
    "}\n",
    "\n",
    "CAP = {\n",
    "    \n",
    "    # Sets the row types in the root cap, from the outside in.\n",
    "    \"types\": [\"OUT\", \"OUT\", \"EPI\", \"COR\", \"END\"],\n",
    "    \n",
    "    \"columns\": 10,     # Number of columns in the root cap\n",
    "    \"min_height\": 12,  # Minimum height of a row in the root cap\n",
    "    \"max_height\": 36   # Maximum height of a row in the root cap\n",
    "}\n",
    "\n",
    "DISPLAY = {\n",
    "\n",
    "    # Sets the default colour for each type of cell\n",
    "    \"type_colors\": {\n",
    "        \"EPI\": \"salmon\",\n",
    "        \"COR\": \"bisque\",\n",
    "        \"END\": \"khaki\",\n",
    "        \"PER\": \"lightgreen\",\n",
    "        \"VAS\": \"lightblue\",\n",
    "        \"LAT\": \"plum\",\n",
    "        \"COL\": \"pink\",\n",
    "        \"QUI\": \"purple\"\n",
    "    }\n",
    "\n",
    "}"
   ]
  },
  {
   "cell_type": "code",
   "execution_count": 10,
   "id": "908e8600-c47c-429e-be8c-15ac99445fae",
   "metadata": {},
   "outputs": [],
   "source": [
    "import json\n",
    "with open('config.json', 'w+', encoding='utf-8') as f:\n",
    "    data = {\"COLUMNS\": COLUMNS, \"CAP\": CAP, \"DISPLAY\": DISPLAY}\n",
    "    json.dump(data, f, ensure_ascii=False, indent=4)"
   ]
  }
 ],
 "metadata": {
  "kernelspec": {
   "display_name": "Python 3 (ipykernel)",
   "language": "python",
   "name": "python3"
  },
  "language_info": {
   "codemirror_mode": {
    "name": "ipython",
    "version": 3
   },
   "file_extension": ".py",
   "mimetype": "text/x-python",
   "name": "python",
   "nbconvert_exporter": "python",
   "pygments_lexer": "ipython3",
   "version": "3.10.8"
  }
 },
 "nbformat": 4,
 "nbformat_minor": 5
}

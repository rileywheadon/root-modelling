{
 "cells": [
  {
   "cell_type": "code",
   "execution_count": 3,
   "id": "cc3f84a2-57d3-458b-b330-2e968355b59e",
   "metadata": {},
   "outputs": [],
   "source": [
    "from computation.gradient import get_phi, get_clasp\n",
    "import numpy as np\n",
    "import matplotlib.pyplot as plt"
   ]
  },
  {
   "cell_type": "code",
   "execution_count": 2,
   "id": "a05e4973-3179-40c7-a0e4-7fa9e2decd2e",
   "metadata": {},
   "outputs": [],
   "source": [
    "# Import configuration\n",
    "import json\n",
    "with open(\"config.json\") as f:\n",
    "    CONFIG = json.load(f)\n",
    "    PARAMS = CONFIG[\"PARAMS\"]\n",
    "    MODEL = CONFIG[\"MODEL\"]"
   ]
  },
  {
   "cell_type": "code",
   "execution_count": 11,
   "id": "05578bc0-0738-475a-b435-31dd4c7da004",
   "metadata": {},
   "outputs": [],
   "source": [
    "# Set Matplotlib display settings\n",
    "import matplotlib.pyplot as plt\n",
    "plt.rcParams['axes.titlepad'] = 20 \n",
    "plt.rcParams['hatch.color'] = 'lightgrey'\n",
    "plt.rcParams['hatch.linewidth'] = 0.2\n",
    "plt.rcParams['font.size'] = 18\n",
    "plt.rcParams['savefig.facecolor'] = 'white'"
   ]
  }
 ],
 "metadata": {
  "kernelspec": {
   "display_name": "Python 3 (ipykernel)",
   "language": "python",
   "name": "python3"
  },
  "language_info": {
   "codemirror_mode": {
    "name": "ipython",
    "version": 3
   },
   "file_extension": ".py",
   "mimetype": "text/x-python",
   "name": "python",
   "nbconvert_exporter": "python",
   "pygments_lexer": "ipython3",
   "version": "3.12.3"
  }
 },
 "nbformat": 4,
 "nbformat_minor": 5
}

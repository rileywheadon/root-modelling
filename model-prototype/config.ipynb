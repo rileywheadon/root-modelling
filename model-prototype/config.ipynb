{
 "cells": [
  {
   "cell_type": "markdown",
   "id": "fd4c59d2-b1ef-49e7-9169-00a9f2482af9",
   "metadata": {},
   "source": [
    "### Parameters\n",
    "\n",
    "- `gradient` determines the slope of the brassinosteroid gradient\n",
    "- `differentiation` sets the size threshold for cell differentiation\n",
    "- `division` sets the size threshold for cell division\n",
    "- `width` sets the width of a cell, held constant accross all columns\n",
    "- `cells` contains the set of parameters to be passed into `generate_network()`:\n",
    "    - `re` is the number of rows in the elongation zone\n",
    "    - `he` is the height of rows in the elongation zone\n",
    "    - `rm` is the number of rows in the meristematic zone\n",
    "    - `hm` is the height of rows in the meristematic zone\n",
    "    - `rc` is the number of rows in the root cap\n",
    "    - `hc` is the height of rows in the root cap\n",
    "    - `b` is the number of border columns (on one side)\n",
    "    - `e` is the number of epidermal columns (on one side)\n",
    "    - `v` is the number of vascular columns\n",
    "- `phi` contains the set of parameters controlling the interaction between BR, CLASP, and growth:\n",
    "    - `s` is the default (and maximum) rate of CLASP production\n",
    "    - `t` and `u` scale the reduction of CLASP production\n",
    "    - `v` and `w` determine the rate of receptor production due to CLASP\n",
    "    - `k_in0` is the rate at which unbound receptors are reabsorbed into the cell\n",
    "    - `k_inB` is the rate at which bound receptors are reabsorbed into the cell\n",
    "    - `k_on` is the rate at which BR is bound to empty receptors\n",
    "    - `k_off` is the rate at which BR unbinds from bound receptors\n",
    "    - `C_m` and `n` determine the relationship between CLASP and growth\n",
    "- `growth_scale` -- If there is too much growth, lower the growth scale.\n",
    "- `division_scale` -- If there is too much division, lower the division scale.\n",
    "- `pin_strength` sets the ratio of PIN diffusion to background diffusion\n",
    "- `influx` sets the boundary condition above the vascular tissue (i.e. the auxin influx from the shoot)"
   ]
  },
  {
   "cell_type": "code",
   "execution_count": 1,
   "id": "468b633f-5645-409c-882b-dcac26188f4a",
   "metadata": {},
   "outputs": [],
   "source": [
    "PARAMS = {\n",
    "    \"gradient\": 0.015,\n",
    "    \"differentiation\": 100, \n",
    "    \"division\": 20,\n",
    "    \"width\": 16,\n",
    "    \"cells\": (5, 60, 10, 24, 3, 16, 2, 1, 4),\n",
    "    \"phi\": (1, 1, 1, 1, 1, 1, 1, 1, 1, 0.75, 50),\n",
    "    \"growth_scale\": 0.05,\n",
    "    \"division_scale\": 0.1,\n",
    "    \"pin_strength\": 20,\n",
    "    \"influx\": 0.15\n",
    "}"
   ]
  },
  {
   "cell_type": "markdown",
   "id": "cc29f069-929f-458a-9870-923435749053",
   "metadata": {},
   "source": [
    "### Model\n",
    "\n",
    "- `\"br\"` sets the role of brassinosteroid in the model. There are three options:\n",
    "    - `\"none\"` ignores brassinosteroid entirely, and is used for models of division (with no growth)\n",
    "    - `\"direct\"` determines the level of growth directly from the level of BR and prescribes a static gradient\n",
    "    - `\"clasp\"`solves a system of ODEs to determine how BR influences CLASP and thus the arrangement of microtubules\n",
    "- `\"auxin\"` sets the role of auxin in the model. Once again there are three options:\n",
    "    - `\"none\"` ignores auxin entirely, and is used for models of growth (with no division)\n",
    "    - `\"direct\"` determines the level of division from a prescribed auxin gradient\n",
    "    - `\"pins\"` generates a network of PINs which determine the level of auxin flow\n",
    "- `\"static\"` overrides `\"br\"` and `\"auxin\"` and prevents all growth and division. Used to visualize auxin flow.\n",
    "- `\"step\"` sets the time step when updating cells\n",
    "- `\"frames\"` sets the total number of time steps\n",
    "\n",
    "#### Stability Condition\n",
    "\n",
    "The cell below calculates the maximum value of `step` such that the system is stable."
   ]
  },
  {
   "cell_type": "code",
   "execution_count": 2,
   "id": "65e06ade-ba1b-4c94-8ed1-f0b1af35f146",
   "metadata": {},
   "outputs": [],
   "source": [
    "max_step = 1 / ((PARAMS[\"differentiation\"] * 2) + (PARAMS[\"width\"] * 2))"
   ]
  },
  {
   "cell_type": "code",
   "execution_count": 3,
   "id": "53029a23-4c96-4625-81c7-afb422842043",
   "metadata": {},
   "outputs": [],
   "source": [
    "MODEL = {\n",
    "    \"br\": \"clasp\",\n",
    "    \"auxin\": \"pins\",\n",
    "    \"static\": False,\n",
    "    \"step\": max_step,\n",
    "    \"nsteps\": 10000\n",
    "}"
   ]
  },
  {
   "cell_type": "markdown",
   "id": "772c24bf-3aad-4e67-b468-0f77d0da22c2",
   "metadata": {
    "tags": []
   },
   "source": [
    "### Visual Settings\n",
    "- `height` sets the height of the figure produced\n",
    "- `cmap` is the matplotlib [colormap](https://matplotlib.org/stable/users/explain/colors/colormaps.html) to be used\n",
    "- `show_pins` shows / hides the pins\n",
    "- `show_zones` shows / hides the zone lines\n",
    "- `speed` is the ratio of steps to frames. higher speed will reduce computation time"
   ]
  },
  {
   "cell_type": "code",
   "execution_count": 7,
   "id": "5dfeba02-cd9a-44ee-a0a1-5b4d4232080b",
   "metadata": {},
   "outputs": [],
   "source": [
    "VISUAL = {\n",
    "    \"height\": 1200,\n",
    "    \"cmap\": \"Purples\",\n",
    "    \"show_pins\": False,\n",
    "    \"pin_colour\": \"white\",\n",
    "    \"show_zones\": True,\n",
    "    \"speed\": 100,\n",
    "    \"auxin_max\": 0.6\n",
    "}"
   ]
  },
  {
   "cell_type": "code",
   "execution_count": null,
   "id": "a95262f6-d51b-4163-a1c4-f7b8b5d20ddc",
   "metadata": {},
   "outputs": [],
   "source": [
    "# Export PARAMS and MODEL to JSON\n",
    "import json\n",
    "with open('config.json', 'w', encoding='utf-8') as f:\n",
    "    data = {\"PARAMS\": PARAMS, \"MODEL\": MODEL, \"VISUAL\": VISUAL}\n",
    "    json.dump(data, f, ensure_ascii=False, indent=4)"
   ]
  }
 ],
 "metadata": {
  "kernelspec": {
   "display_name": "Python 3 (ipykernel)",
   "language": "python",
   "name": "python3"
  },
  "language_info": {
   "codemirror_mode": {
    "name": "ipython",
    "version": 3
   },
   "file_extension": ".py",
   "mimetype": "text/x-python",
   "name": "python",
   "nbconvert_exporter": "python",
   "pygments_lexer": "ipython3",
   "version": "3.12.3"
  }
 },
 "nbformat": 4,
 "nbformat_minor": 5
}
